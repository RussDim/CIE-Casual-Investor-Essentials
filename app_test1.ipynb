{
 "cells": [
  {
   "cell_type": "code",
   "execution_count": 1,
   "metadata": {},
   "outputs": [],
   "source": [
    "from GoogleNews import GoogleNews\n",
    "\n",
    "googlenews = GoogleNews(lang='en')\n",
    "googlenews.search(\"MSFT\")\n",
    "news_articles = googlenews.result()"
   ]
  },
  {
   "cell_type": "code",
   "execution_count": 2,
   "metadata": {},
   "outputs": [
    {
     "data": {
      "text/plain": [
       "[{'title': \"ChatGPT is now available with Microsoft's Azure OpenAI Service\",\n",
       "  'media': 'BGR',\n",
       "  'date': '4 hours ago',\n",
       "  'datetime': datetime.datetime(2023, 3, 9, 14, 15, 24, 430400),\n",
       "  'desc': 'Microsoft has announced that ChatGPT is now available in Azure OpenAI Service, enabling developers to integrate custom AI into their services.',\n",
       "  'link': 'https://bgr.com/tech/chatgpt-is-now-available-with-microsofts-azure-openai-service/',\n",
       "  'img': 'data:image/gif;base64,R0lGODlhAQABAIAAAP///////yH5BAEKAAEALAAAAAABAAEAAAICTAEAOw=='},\n",
       " {'title': 'Microsoft Corp. stock outperforms competitors despite losses on the day',\n",
       "  'media': 'MarketWatch',\n",
       "  'date': '4 hours ago',\n",
       "  'datetime': datetime.datetime(2023, 3, 9, 14, 15, 24, 450389),\n",
       "  'desc': 'Shares of Microsoft Corp. slid 0.54% to $252.32 Thursday, on what proved to be an all-around grim trading session for the stock market, with the S&P 500...',\n",
       "  'link': 'https://www.marketwatch.com/data-news/microsoft-corp-stock-outperforms-competitors-despite-losses-on-the-day-41b6d1fc-10d2bec1b17c',\n",
       "  'img': 'data:image/gif;base64,R0lGODlhAQABAIAAAP///////yH5BAEKAAEALAAAAAABAAEAAAICTAEAOw=='},\n",
       " {'title': 'Oracle misses third-quarter revenue estimates as cloud demand staggers',\n",
       "  'media': 'Market Screener',\n",
       "  'date': '4 hours ago',\n",
       "  'datetime': datetime.datetime(2023, 3, 9, 14, 15, 24, 471395),\n",
       "  'desc': 'Oracle Corp missed quarterly revenue estimates on Thursday, as businesses slowed down IT spending against the backdrop of a sobering economic outlook.',\n",
       "  'link': 'https://www.marketscreener.com/quote/stock/MICROSOFT-CORPORATION-4835/news/Oracle-misses-third-quarter-revenue-estimates-as-cloud-demand-staggers-43206663/',\n",
       "  'img': 'data:image/gif;base64,R0lGODlhAQABAIAAAP///////yH5BAEKAAEALAAAAAABAAEAAAICTAEAOw=='},\n",
       " {'title': \"Microsoft's Bing Chatbot Gains Traction as Search Engine Usage Surpasses 100 Million Daily Active Users\",\n",
       "  'media': 'gHacks',\n",
       "  'date': '5 hours ago',\n",
       "  'datetime': datetime.datetime(2023, 3, 9, 13, 15, 24, 488390),\n",
       "  'desc': \"Microsoft's progress in expanding its digital ad market share demonstrates a commitment to innovation and growth in the search industry.\",\n",
       "  'link': 'https://www.ghacks.net/2023/03/09/microsofts-bing-chatbot-gains-traction-as-search-engine-usage-surpasses-100-million-daily-active-users/',\n",
       "  'img': 'data:image/gif;base64,R0lGODlhAQABAIAAAP///////yH5BAEKAAEALAAAAAABAAEAAAICTAEAOw=='},\n",
       " {'title': 'OpenAI to enable more customizations for enterprise and individual users',\n",
       "  'media': 'Market Screener',\n",
       "  'date': '5 hours ago',\n",
       "  'datetime': datetime.datetime(2023, 3, 9, 13, 15, 24, 506385),\n",
       "  'desc': 'OpenAI, the creator of the buzzy chatbot ChatGPT, will release tools to give users more control over the generative AI system, while improving the models...',\n",
       "  'link': 'https://www.marketscreener.com/quote/stock/MICROSOFT-CORPORATION-4835/news/OpenAI-to-enable-more-customizations-for-enterprise-and-individual-users-43206245/',\n",
       "  'img': 'data:image/gif;base64,R0lGODlhAQABAIAAAP///////yH5BAEKAAEALAAAAAABAAEAAAICTAEAOw=='},\n",
       " {'title': 'Microsoft search engine Bing reaches 100 million daily active users after ChatGPT adoption',\n",
       "  'media': 'Yahoo Finance',\n",
       "  'date': '5 hours ago',\n",
       "  'datetime': datetime.datetime(2023, 3, 9, 13, 15, 24, 522387),\n",
       "  'desc': \"Yahoo Finance Live discuss Bing reaching 100 million daily active users after Microsoft released it's ChatGPT integrated features.\",\n",
       "  'link': 'https://ca.finance.yahoo.com/video/microsoft-search-engine-bing-reaches-204004690.html',\n",
       "  'img': 'data:image/gif;base64,R0lGODlhAQABAIAAAP///////yH5BAEKAAEALAAAAAABAAEAAAICTAEAOw=='},\n",
       " {'title': 'Microsoft’s Bing hits 100 million active users thanks to AI chat, Edge browser',\n",
       "  'media': 'Ars Technica',\n",
       "  'date': '5 hours ago',\n",
       "  'datetime': datetime.datetime(2023, 3, 9, 13, 15, 24, 538392),\n",
       "  'desc': '\"We are fully aware we remain a small, low, single digit share player.\"',\n",
       "  'link': 'https://arstechnica.com/gadgets/2023/03/ai-powered-chat-helps-bing-make-a-small-dent-in-googles-search-hegemony/',\n",
       "  'img': 'data:image/gif;base64,R0lGODlhAQABAIAAAP///////yH5BAEKAAEALAAAAAABAAEAAAICTAEAOw=='},\n",
       " {'title': \"ChatGPT has boosted Microsoft's Bing to over 100 million daily active users\",\n",
       "  'media': 'BGR',\n",
       "  'date': '6 hours ago',\n",
       "  'datetime': datetime.datetime(2023, 3, 9, 12, 15, 24, 556387),\n",
       "  'desc': 'Microsoft has announced that Bing has passed 100 million daily active users, with over 30% being new to the search engine.',\n",
       "  'link': 'https://bgr.com/tech/chatgpt-has-boosted-microsofts-bing-to-over-100-million-daily-active-users/',\n",
       "  'img': 'data:image/gif;base64,R0lGODlhAQABAIAAAP///////yH5BAEKAAEALAAAAAABAAEAAAICTAEAOw=='},\n",
       " {'title': 'Collaboration is crucial to strengthening cybersecurity - Microsoft On the Issues',\n",
       "  'media': 'The Official Microsoft Blog',\n",
       "  'date': '6 hours ago',\n",
       "  'datetime': datetime.datetime(2023, 3, 9, 12, 15, 24, 572387),\n",
       "  'desc': \"Last week, the Biden-Harris Administration released its National Cybersecurity Strategy, renewing the U.S. government's vision and objectives for realizing...\",\n",
       "  'link': 'https://blogs.microsoft.com/on-the-issues/2023/03/09/national-cybersecurity-strategy-cyber-readiness/',\n",
       "  'img': 'data:image/gif;base64,R0lGODlhAQABAIAAAP///////yH5BAEKAAEALAAAAAABAAEAAAICTAEAOw=='},\n",
       " {'title': 'ChatGPT comes to Microsoft’s enterprise-focused, Azure-powered managed service',\n",
       "  'media': 'TechCrunch',\n",
       "  'date': '6 hours ago',\n",
       "  'datetime': datetime.datetime(2023, 3, 9, 12, 15, 24, 590384),\n",
       "  'desc': \"ChatGPT is now available through the Azure OpenAI Service, Microsoft's fully managed, enterprise-focused repackage of OpenAI tech.\",\n",
       "  'link': 'https://techcrunch.com/2023/03/09/chatgpt-comes-to-microsofts-enterprise-focused-azure-powered-managed-service/',\n",
       "  'img': 'data:image/gif;base64,R0lGODlhAQABAIAAAP///////yH5BAEKAAEALAAAAAABAAEAAAICTAEAOw=='}]"
      ]
     },
     "execution_count": 2,
     "metadata": {},
     "output_type": "execute_result"
    }
   ],
   "source": [
    "news_articles"
   ]
  }
 ],
 "metadata": {
  "kernelspec": {
   "display_name": "dataviz-532",
   "language": "python",
   "name": "python3"
  },
  "language_info": {
   "codemirror_mode": {
    "name": "ipython",
    "version": 3
   },
   "file_extension": ".py",
   "mimetype": "text/x-python",
   "name": "python",
   "nbconvert_exporter": "python",
   "pygments_lexer": "ipython3",
   "version": "3.11.0"
  },
  "orig_nbformat": 4
 },
 "nbformat": 4,
 "nbformat_minor": 2
}
